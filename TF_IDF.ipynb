{
  "nbformat": 4,
  "nbformat_minor": 0,
  "metadata": {
    "colab": {
      "provenance": []
    },
    "kernelspec": {
      "name": "python3",
      "display_name": "Python 3"
    },
    "language_info": {
      "name": "python"
    }
  },
  "cells": [
    {
      "cell_type": "markdown",
      "source": [
        "### **با کتابخانه Scikit-learn**"
      ],
      "metadata": {
        "id": "XEMHTF6xRibn"
      }
    },
    {
      "cell_type": "code",
      "source": [
        "!pip install -U scikit-learn"
      ],
      "metadata": {
        "colab": {
          "base_uri": "https://localhost:8080/"
        },
        "id": "e1sG2cS7NNdR",
        "outputId": "032ceac8-97f4-4549-9e5b-e693096f1922"
      },
      "execution_count": 1,
      "outputs": [
        {
          "output_type": "stream",
          "name": "stdout",
          "text": [
            "Requirement already satisfied: scikit-learn in /usr/local/lib/python3.11/dist-packages (1.6.1)\n",
            "Requirement already satisfied: numpy>=1.19.5 in /usr/local/lib/python3.11/dist-packages (from scikit-learn) (2.0.2)\n",
            "Requirement already satisfied: scipy>=1.6.0 in /usr/local/lib/python3.11/dist-packages (from scikit-learn) (1.14.1)\n",
            "Requirement already satisfied: joblib>=1.2.0 in /usr/local/lib/python3.11/dist-packages (from scikit-learn) (1.4.2)\n",
            "Requirement already satisfied: threadpoolctl>=3.1.0 in /usr/local/lib/python3.11/dist-packages (from scikit-learn) (3.6.0)\n"
          ]
        }
      ]
    },
    {
      "cell_type": "code",
      "execution_count": 2,
      "metadata": {
        "colab": {
          "base_uri": "https://localhost:8080/"
        },
        "id": "OV2hON7ENEzB",
        "outputId": "fa29cd6f-1d9d-4d9c-b834-f47d8fdda583"
      },
      "outputs": [
        {
          "output_type": "stream",
          "name": "stdout",
          "text": [
            "\n",
            "🔹 سند 1:\n",
            "آینده: 0.4189\n",
            "تغییر: 0.4189\n",
            "خواهد: 0.4189\n",
            "داد: 0.4189\n",
            "را: 0.4189\n",
            "مصنوعی: 0.2474\n",
            "هوش: 0.2474\n",
            "\n",
            "🔹 سند 2:\n",
            "از: 0.3604\n",
            "است: 0.3604\n",
            "شاخه: 0.3604\n",
            "ماشین: 0.3604\n",
            "مصنوعی: 0.2129\n",
            "های: 0.3604\n",
            "هوش: 0.2129\n",
            "یادگیری: 0.3604\n",
            "یکی: 0.3604\n",
            "\n",
            "🔹 سند 3:\n",
            "آموزش: 0.4189\n",
            "دارد: 0.4189\n",
            "در: 0.4189\n",
            "مصنوعی: 0.2474\n",
            "هوش: 0.2474\n",
            "پزشکی: 0.4189\n",
            "کاربرد: 0.4189\n"
          ]
        }
      ],
      "source": [
        "from sklearn.feature_extraction.text import TfidfVectorizer\n",
        "\n",
        "# لیستی از اسناد (هر سند یک جمله یا پاراگراف)\n",
        "documents = [\n",
        "    \"هوش مصنوعی آینده را تغییر خواهد داد\",\n",
        "    \"یادگیری ماشین یکی از شاخه‌های هوش مصنوعی است\",\n",
        "    \"هوش مصنوعی در پزشکی و آموزش کاربرد دارد\"\n",
        "]\n",
        "\n",
        "# ساخت TF-IDF مدل\n",
        "vectorizer = TfidfVectorizer()\n",
        "X = vectorizer.fit_transform(documents)\n",
        "\n",
        "# نمایش کلمات و وزن TF-IDF\n",
        "words = vectorizer.get_feature_names_out()\n",
        "\n",
        "for doc_index, doc_vector in enumerate(X.toarray()):\n",
        "    print(f\"\\n🔹 سند {doc_index + 1}:\")\n",
        "    for word_index, score in enumerate(doc_vector):\n",
        "        if score > 0:\n",
        "            print(f\"{words[word_index]}: {score:.4f}\")\n"
      ]
    },
    {
      "cell_type": "markdown",
      "source": [
        "### **بدون کتابخانه**"
      ],
      "metadata": {
        "id": "MYbMPUTJRLnN"
      }
    },
    {
      "cell_type": "code",
      "source": [
        "import math\n",
        "from collections import Counter\n",
        "\n",
        "# سندها\n",
        "documents = [\n",
        "    \"هوش مصنوعی آینده را تغییر خواهد داد\",\n",
        "    \"یادگیری ماشین یکی از شاخه‌های هوش مصنوعی است\",\n",
        "    \"هوش مصنوعی در پزشکی و آموزش کاربرد دارد\"\n",
        "]\n",
        "\n",
        "# پیش‌پردازش: جدا کردن کلمات\n",
        "tokenized_docs = [doc.split() for doc in documents]\n",
        "\n",
        "# تعداد کل سندها\n",
        "N = len(tokenized_docs)\n",
        "\n",
        "# محاسبه DF: برای هر کلمه در چند سند ظاهر شده؟\n",
        "df = {}\n",
        "for doc in tokenized_docs:\n",
        "    unique_words = set(doc)\n",
        "    for word in unique_words:\n",
        "        df[word] = df.get(word, 0) + 1\n",
        "\n",
        "# محاسبه TF-IDF\n",
        "for doc_index, doc in enumerate(tokenized_docs):\n",
        "    print(f\"\\n🔹 سند {doc_index + 1}:\")\n",
        "    word_counts = Counter(doc)\n",
        "    total_words = len(doc)\n",
        "\n",
        "    for word in word_counts:\n",
        "        tf = word_counts[word] / total_words\n",
        "        idf = math.log(N / (1 + df[word]))\n",
        "        tfidf = tf * idf\n",
        "        print(f\"{word}: {tfidf:.4f}\")\n"
      ],
      "metadata": {
        "colab": {
          "base_uri": "https://localhost:8080/"
        },
        "id": "p3MfigjkROLB",
        "outputId": "9f45ddc1-9a35-4e5c-8314-858a194db279"
      },
      "execution_count": 3,
      "outputs": [
        {
          "output_type": "stream",
          "name": "stdout",
          "text": [
            "\n",
            "🔹 سند 1:\n",
            "هوش: -0.0411\n",
            "مصنوعی: -0.0411\n",
            "آینده: 0.0579\n",
            "را: 0.0579\n",
            "تغییر: 0.0579\n",
            "خواهد: 0.0579\n",
            "داد: 0.0579\n",
            "\n",
            "🔹 سند 2:\n",
            "یادگیری: 0.0507\n",
            "ماشین: 0.0507\n",
            "یکی: 0.0507\n",
            "از: 0.0507\n",
            "شاخه‌های: 0.0507\n",
            "هوش: -0.0360\n",
            "مصنوعی: -0.0360\n",
            "است: 0.0507\n",
            "\n",
            "🔹 سند 3:\n",
            "هوش: -0.0360\n",
            "مصنوعی: -0.0360\n",
            "در: 0.0507\n",
            "پزشکی: 0.0507\n",
            "و: 0.0507\n",
            "آموزش: 0.0507\n",
            "کاربرد: 0.0507\n",
            "دارد: 0.0507\n"
          ]
        }
      ]
    }
  ]
}